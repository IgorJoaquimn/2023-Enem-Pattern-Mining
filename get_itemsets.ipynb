{
 "cells": [
  {
   "cell_type": "code",
   "execution_count": null,
   "metadata": {},
   "outputs": [],
   "source": [
    "from swifter import set_defaults\n",
    "set_defaults(\n",
    "    progress_bar=False,\n",
    ")\n",
    "import pandas as pd\n",
    "import numpy as np\n",
    "import swifter\n",
    "import threading\n",
    "import multiprocessing\n",
    "from concurrent.futures import ThreadPoolExecutor\n",
    "import functools\n",
    "import os\n",
    "thread_local = threading.local()\n",
    "\n"
   ]
  },
  {
   "cell_type": "code",
   "execution_count": null,
   "metadata": {},
   "outputs": [],
   "source": [
    "PATH_PROCESSED = \"dados_processados/\" \n",
    "columns = ['NU_INSCRICAO', 'TX_RESPOSTAS']"
   ]
  },
  {
   "cell_type": "code",
   "execution_count": null,
   "metadata": {},
   "outputs": [],
   "source": [
    "questions_features = [\"TX_RESPOSTAS_CN\",\"TX_RESPOSTAS_CH\",\"TX_RESPOSTAS_LC\",\"TX_RESPOSTAS_MT\"]"
   ]
  },
  {
   "cell_type": "code",
   "execution_count": null,
   "metadata": {},
   "outputs": [],
   "source": [
    "def get_representative_string(arr,boolean_list):\n",
    "    indices = [index for index, value in enumerate(boolean_list) if value]\n",
    "    answers = arr[boolean_list]\n",
    "    itemset = [f\"Q{ind + 1}-{wrong};\" for ind,wrong in zip(indices,answers)]\n",
    "    if(len(itemset)):\n",
    "        itemset[-1] = itemset[-1][:-1]\n",
    "    return \"\".join(itemset)\n",
    "\n",
    "def get_itemset(row,df_corrected):\n",
    "    arr = np.array(list(row[\"TX_RESPOSTAS\"]))\n",
    "    boolean_list    = df_corrected.iloc[(row.name)%len(df_corrected)][1:].tolist()\n",
    "    w_boolean_list  = np.invert(boolean_list)\n",
    "    # Create two threads with different parameters\n",
    "\n",
    "    with ThreadPoolExecutor() as executor:\n",
    "        # Submit the function with the first parameter\n",
    "        future1 = executor.submit(get_representative_string,arr,boolean_list)\n",
    "        # Submit the function with the second parameter\n",
    "        future2 = executor.submit(get_representative_string,arr,w_boolean_list)\n",
    "\n",
    "    # Retrieve the results\n",
    "    r = future1.result()\n",
    "    w = future2.result()\n",
    "    # r = get_representative_string(arr,boolean_list)\n",
    "    # w = get_representative_string(arr,w_boolean_list)\n",
    "    return r,w"
   ]
  },
  {
   "cell_type": "code",
   "execution_count": null,
   "metadata": {},
   "outputs": [],
   "source": [
    "def process_chunks(chunk_pairs,question):\n",
    "    thread_id = os.getpid()\n",
    "    answers,answers_corrected = chunk_pairs\n",
    "    answers.columns     = columns\n",
    "\n",
    "\n",
    "    tmp = answers.swifter.apply(lambda x: get_itemset(x,answers_corrected),axis=1)\n",
    "    answers[\"TX_WRONG\"] = tmp.apply(lambda x: x[0])\n",
    "    answers[\"TX_RIGHT\"] = tmp.apply(lambda x: x[1])\n",
    "    answers.to_csv(PATH_PROCESSED + \"threads/\" + \"test_\" + question + str(thread_id) + \".csv\",sep=\",\",header=None,index=False,mode=\"a\")\n"
   ]
  },
  {
   "cell_type": "code",
   "execution_count": null,
   "metadata": {},
   "outputs": [],
   "source": [
    "N = 1000\n",
    "num_workers = 10\n",
    "for question in questions_features:\n",
    "    file1   = PATH_PROCESSED + question + \".csv\"\n",
    "    file2   = PATH_PROCESSED +\"CORRECTED_\" + question + \".csv\"\n",
    "    print(file1)\n",
    "    answers_reader              = pd.read_csv(file1,sep=\";\",header=None,chunksize=N)\n",
    "    answers_corrected_reader    = pd.read_csv(file2,sep=\";\",header=None,chunksize=N)\n",
    "\n",
    "    c1 = [chunk for chunk in answers_reader]\n",
    "    c2 = [chunk for chunk in answers_corrected_reader]\n",
    "    chunk_pairs = list(zip(c1, c2))    \n",
    "    # for chunk in chunk_pairs:\n",
    "    #     process_chunks(chunk,question)\n",
    "\n",
    "    with multiprocessing.Pool() as pool:\n",
    "        f = functools.partial(process_chunks, question=question)\n",
    "        results = pool.map(f, chunk_pairs)"
   ]
  }
 ],
 "metadata": {
  "kernelspec": {
   "display_name": "Python 3",
   "language": "python",
   "name": "python3"
  },
  "language_info": {
   "codemirror_mode": {
    "name": "ipython",
    "version": 3
   },
   "file_extension": ".py",
   "mimetype": "text/x-python",
   "name": "python",
   "nbconvert_exporter": "python",
   "pygments_lexer": "ipython3",
   "version": "3.11.5"
  },
  "orig_nbformat": 4
 },
 "nbformat": 4,
 "nbformat_minor": 2
}
