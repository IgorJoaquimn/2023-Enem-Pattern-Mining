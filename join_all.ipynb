{
 "cells": [
  {
   "cell_type": "code",
   "execution_count": 14,
   "metadata": {},
   "outputs": [],
   "source": [
    "import pandas as pd"
   ]
  },
  {
   "cell_type": "code",
   "execution_count": 15,
   "metadata": {},
   "outputs": [],
   "source": [
    "PATH_PROCESSED = \"dados_processados/\" "
   ]
  },
  {
   "cell_type": "code",
   "execution_count": 16,
   "metadata": {},
   "outputs": [],
   "source": [
    "df = pd.read_csv(PATH_PROCESSED + \"habitos/habitos.csv\")"
   ]
  },
  {
   "cell_type": "code",
   "execution_count": 17,
   "metadata": {},
   "outputs": [],
   "source": [
    "questions_features = [\"TX_RESPOSTAS_CN\",\"TX_RESPOSTAS_CH\",\"TX_RESPOSTAS_LC\",\"TX_RESPOSTAS_MT\"]\n",
    "for question in questions_features:\n",
    "    columns = ['NU_INSCRICAO', question + \"_WRONG\", question + \"_RIGHT\"]\n",
    "    aux = pd.read_csv(PATH_PROCESSED + \"threads/\" + \"test_\" + question + \".csv\",sep=\",\",header=None,usecols=[0,2,3])\n",
    "    aux.columns = columns\n",
    "    df = pd.merge(df, aux, on='NU_INSCRICAO')"
   ]
  },
  {
   "cell_type": "code",
   "execution_count": 21,
   "metadata": {},
   "outputs": [],
   "source": [
    "df.to_csv(PATH_PROCESSED + \"itemsets.csv\",index = False)"
   ]
  }
 ],
 "metadata": {
  "kernelspec": {
   "display_name": "Python 3",
   "language": "python",
   "name": "python3"
  },
  "language_info": {
   "codemirror_mode": {
    "name": "ipython",
    "version": 3
   },
   "file_extension": ".py",
   "mimetype": "text/x-python",
   "name": "python",
   "nbconvert_exporter": "python",
   "pygments_lexer": "ipython3",
   "version": "3.11.5"
  },
  "orig_nbformat": 4
 },
 "nbformat": 4,
 "nbformat_minor": 2
}
