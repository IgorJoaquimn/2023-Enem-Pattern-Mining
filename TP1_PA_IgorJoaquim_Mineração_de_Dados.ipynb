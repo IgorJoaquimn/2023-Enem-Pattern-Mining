{
  "nbformat": 4,
  "nbformat_minor": 0,
  "metadata": {
    "colab": {
      "provenance": [],
      "toc_visible": true,
      "include_colab_link": true
    },
    "kernelspec": {
      "name": "python3",
      "display_name": "Python 3"
    },
    "language_info": {
      "name": "python"
    }
  },
  "cells": [
    {
      "cell_type": "markdown",
      "metadata": {
        "id": "view-in-github",
        "colab_type": "text"
      },
      "source": [
        "<a href=\"https://colab.research.google.com/github/IgorJoaquimn/2023-Enem-Pattern-Mining/blob/main/TP1_PA_IgorJoaquim_Minera%C3%A7%C3%A3o_de_Dados.ipynb\" target=\"_parent\"><img src=\"https://colab.research.google.com/assets/colab-badge.svg\" alt=\"Open In Colab\"/></a>"
      ]
    },
    {
      "cell_type": "markdown",
      "source": [
        "# **Proposta de Trabalho 1 - Mineração de dados**\n",
        "\n",
        "### **Professor:** Wagner Meira Jr.\n",
        "### **Aluno:** Igor Joaquim da Silva Costa\n",
        "### **Matrícula** 2021032218\n",
        "\n",
        "\n",
        "### **Tema:** Padrões de respostas no Enem 2022\n",
        "### **Base de dados:** https://www.gov.br/inep/pt-br/acesso-a-informacao/dados-abertos/microdados/enem\n"
      ],
      "metadata": {
        "id": "2z-yJF6TObCw"
      }
    },
    {
      "cell_type": "code",
      "source": [
        "import warnings\n",
        "warnings.filterwarnings(\"ignore\", category=DeprecationWarning)"
      ],
      "metadata": {
        "id": "1Dw6sSdh6VUO"
      },
      "execution_count": null,
      "outputs": []
    },
    {
      "cell_type": "code",
      "source": [
        "%pip install swifter"
      ],
      "metadata": {
        "colab": {
          "base_uri": "https://localhost:8080/"
        },
        "id": "RsD7yzLlLlMK",
        "outputId": "5e145bb0-0ba7-49d5-b375-6d584fc07818"
      },
      "execution_count": null,
      "outputs": [
        {
          "output_type": "stream",
          "name": "stdout",
          "text": [
            "Requirement already satisfied: swifter in /usr/local/lib/python3.10/dist-packages (1.4.0)\n",
            "Requirement already satisfied: pandas>=1.0.0 in /usr/local/lib/python3.10/dist-packages (from swifter) (1.5.3)\n",
            "Requirement already satisfied: psutil>=5.6.6 in /usr/local/lib/python3.10/dist-packages (from swifter) (5.9.5)\n",
            "Requirement already satisfied: dask[dataframe]>=2.10.0 in /usr/local/lib/python3.10/dist-packages (from swifter) (2023.8.1)\n",
            "Requirement already satisfied: tqdm>=4.33.0 in /usr/local/lib/python3.10/dist-packages (from swifter) (4.66.1)\n",
            "Requirement already satisfied: click>=8.0 in /usr/local/lib/python3.10/dist-packages (from dask[dataframe]>=2.10.0->swifter) (8.1.7)\n",
            "Requirement already satisfied: cloudpickle>=1.5.0 in /usr/local/lib/python3.10/dist-packages (from dask[dataframe]>=2.10.0->swifter) (2.2.1)\n",
            "Requirement already satisfied: fsspec>=2021.09.0 in /usr/local/lib/python3.10/dist-packages (from dask[dataframe]>=2.10.0->swifter) (2023.6.0)\n",
            "Requirement already satisfied: packaging>=20.0 in /usr/local/lib/python3.10/dist-packages (from dask[dataframe]>=2.10.0->swifter) (23.1)\n",
            "Requirement already satisfied: partd>=1.2.0 in /usr/local/lib/python3.10/dist-packages (from dask[dataframe]>=2.10.0->swifter) (1.4.1)\n",
            "Requirement already satisfied: pyyaml>=5.3.1 in /usr/local/lib/python3.10/dist-packages (from dask[dataframe]>=2.10.0->swifter) (6.0.1)\n",
            "Requirement already satisfied: toolz>=0.10.0 in /usr/local/lib/python3.10/dist-packages (from dask[dataframe]>=2.10.0->swifter) (0.12.0)\n",
            "Requirement already satisfied: importlib-metadata>=4.13.0 in /usr/local/lib/python3.10/dist-packages (from dask[dataframe]>=2.10.0->swifter) (6.8.0)\n",
            "Requirement already satisfied: python-dateutil>=2.8.1 in /usr/local/lib/python3.10/dist-packages (from pandas>=1.0.0->swifter) (2.8.2)\n",
            "Requirement already satisfied: pytz>=2020.1 in /usr/local/lib/python3.10/dist-packages (from pandas>=1.0.0->swifter) (2023.3.post1)\n",
            "Requirement already satisfied: numpy>=1.21.0 in /usr/local/lib/python3.10/dist-packages (from pandas>=1.0.0->swifter) (1.23.5)\n",
            "Requirement already satisfied: zipp>=0.5 in /usr/local/lib/python3.10/dist-packages (from importlib-metadata>=4.13.0->dask[dataframe]>=2.10.0->swifter) (3.17.0)\n",
            "Requirement already satisfied: locket in /usr/local/lib/python3.10/dist-packages (from partd>=1.2.0->dask[dataframe]>=2.10.0->swifter) (1.0.0)\n",
            "Requirement already satisfied: six>=1.5 in /usr/local/lib/python3.10/dist-packages (from python-dateutil>=2.8.1->pandas>=1.0.0->swifter) (1.16.0)\n"
          ]
        }
      ]
    },
    {
      "cell_type": "code",
      "source": [
        "#Bibliotecas usadas no projeto\n",
        "import pandas as pd\n",
        "import numpy as np\n",
        "import matplotlib.pyplot as plt\n",
        "import seaborn as sns\n",
        "import swifter\n",
        "import csv\n",
        "\n",
        "from mlxtend.frequent_patterns import apriori,fpgrowth\n",
        "from mlxtend.frequent_patterns import association_rules\n",
        "from mlxtend.preprocessing import TransactionEncoder\n"
      ],
      "metadata": {
        "id": "EK8yf-vgJqkL"
      },
      "execution_count": null,
      "outputs": []
    },
    {
      "cell_type": "code",
      "source": [
        "import gdown\n",
        "def download_file(file_id,output_file):\n",
        "  # Construct the download URL\n",
        "  url = f\"https://drive.google.com/uc?id={file_id}\"\n",
        "\n",
        "  # Download the file from Google Drive\n",
        "  gdown.download(url, output_file, quiet=False)\n",
        "\n",
        "download_file(\"1Oak0WBUIFpSDcb6DB0RL5oECNl9Hlmrx\",\"itemsets.csv\")\n",
        "download_file(\"1VgjEuvi8qaKeYKpm15dptpig3_dSXjLV\",\"microdados.csv\")"
      ],
      "metadata": {
        "id": "C4r3tOTFSXPm",
        "outputId": "dcb313b9-ece4-4ef1-a75d-11d2fd9d55cc",
        "colab": {
          "base_uri": "https://localhost:8080/"
        }
      },
      "execution_count": null,
      "outputs": [
        {
          "output_type": "stream",
          "name": "stderr",
          "text": [
            "Downloading...\n",
            "From: https://drive.google.com/uc?id=1Oak0WBUIFpSDcb6DB0RL5oECNl9Hlmrx\n",
            "To: /content/itemsets.csv\n",
            "100%|██████████| 618M/618M [00:14<00:00, 42.0MB/s]\n",
            "Downloading...\n",
            "From: https://drive.google.com/uc?id=1VgjEuvi8qaKeYKpm15dptpig3_dSXjLV\n",
            "To: /content/microdados.csv\n",
            "100%|██████████| 1.57G/1.57G [00:47<00:00, 33.1MB/s]\n"
          ]
        }
      ]
    },
    {
      "cell_type": "markdown",
      "source": [
        "##**2. Data understanding (Entendimento dos dados)**\n"
      ],
      "metadata": {
        "id": "ckPkUM8AJeMl"
      }
    },
    {
      "cell_type": "code",
      "source": [
        "#Carregando a base de dados\n",
        "columns = [\"TP_SEXO\",\n",
        "           \"TP_FAIXA_ETARIA\",\n",
        "           \"TP_COR_RACA\",\n",
        "           \"Q006\",\n",
        "           \"CO_UF_ESC\",\n",
        "           \"TP_ESCOLA\",\n",
        "           \"NU_NOTA_MT\",\n",
        "           \"NU_NOTA_CH\",\n",
        "           \"NU_NOTA_CN\",\n",
        "           \"NU_NOTA_LC\"\n",
        "           ]\n",
        "df = pd.read_csv(\"microdados.csv\",sep=\";\",encoding=\"latin\",usecols=columns)"
      ],
      "metadata": {
        "id": "j1fDgQ9gJ1EV"
      },
      "execution_count": null,
      "outputs": []
    },
    {
      "cell_type": "code",
      "source": [
        "# Dicionário de mapeamento de categorias para valores médios\n",
        "mapeamento = {\n",
        "    'A': 0,\n",
        "    'B': (0 + 1212) / 2,  # Média entre 0 e 1212\n",
        "    'C': (1212 + 1818) / 2,  # Média entre 1212 e 1818\n",
        "    'D': (1818 + 2424) / 2,  # Média entre 1818 e 2424\n",
        "    'E': (2424 + 3030) / 2,  # Média entre 2424 e 3030\n",
        "    'F': (3030 + 3636) / 2,  # Média entre 3030 e 3636\n",
        "    'G': (3636 + 4848) / 2,  # Média entre 3636 e 4848\n",
        "    'H': (4848 + 6060) / 2,  # Média entre 4848 e 6060\n",
        "    'I': (6060 + 7272) / 2,  # Média entre 6060 e 7272\n",
        "    'J': (7272 + 8484) / 2,  # Média entre 7272 e 8484\n",
        "    'K': (8484 + 9696) / 2,  # Média entre 8484 e 9696\n",
        "    'L': (9696 + 10908) / 2,  # Média entre 9696 e 10908\n",
        "    'M': (10908 + 12120) / 2,  # Média entre 10908 e 12120\n",
        "    'N': (12120 + 14544) / 2,  # Média entre 12120 e 14544\n",
        "    'O': (14544 + 18180) / 2,  # Média entre 14544 e 18180\n",
        "    'P': (18180 + 24240) / 2,  # Média entre 18180 e 24240\n",
        "    'Q': 24240  # Considerando \"Acima de R$ 24.240,00\" como infinito\n",
        "}\n",
        "\n",
        "# Aplicar a transformação à coluna \"Q006\"\n",
        "df[\"Q006\"] = df[\"Q006\"].map(mapeamento)"
      ],
      "metadata": {
        "id": "HqzV10yirbzs"
      },
      "execution_count": null,
      "outputs": []
    },
    {
      "cell_type": "code",
      "source": [
        "sexo_esperado = \"F\"\n",
        "idade_esperada = [17, 18, 19, 20]\n",
        "cor_esperada = \"Preta ou parda\"\n",
        "renda_esperada = 3000\n",
        "regiao_esperada = \"Nordeste\"\n",
        "turno_esperado = \"Manhã\"\n",
        "escola_esperada = \"Pública\"\n",
        "nota_esperada = 531.7\n",
        "\n",
        "# Verificar a proporção de participantes do sexo feminino\n",
        "proporcao_feminino = (df['TP_SEXO'].value_counts(normalize=True)['F'] * 100).round(1)\n",
        "assert proporcao_feminino > 0.55\n",
        "\n",
        "# Verificar a proporção de participantes entre 17 e 20 anos\n",
        "proporcao_17_20_anos = (df['TP_FAIXA_ETARIA'].between(2, 5).sum() / len(df) * 100).round(1)\n",
        "assert proporcao_17_20_anos > 0.50\n",
        "\n",
        "# Verificar a proporção de participantes de cor preta ou parda\n",
        "proporcao_preto_pardo = (df['TP_COR_RACA'].between(2, 3).sum() / len(df) * 100).round(1)\n",
        "assert proporcao_preto_pardo > 0.5\n",
        "\n",
        "# Verificar a renda familiar dos participantes\n",
        "renda_participantes = df[\"Q006\"].mean()\n",
        "assert renda_participantes > renda_esperada\n",
        "\n",
        "# Verificar a proporção de participantes da região Nordeste\n",
        "proporcao_nordeste = (df['CO_UF_ESC'].between(21, 29).sum() / len(df) * 100).round(1)\n",
        "\n",
        "# Verificar a proporção de participantes que estudaram em escola pública\n",
        "proporcao_escola_publica = (df['TP_ESCOLA'].between(2, 2).sum() / len(df) * 100).round(1)\n",
        "assert proporcao_escola_publica > 0.5\n",
        "\n",
        "# Calcular a média das notas dos participantes\n",
        "media_notas = df['NU_NOTA_MT'].mean().round(1)\n",
        "assert media_notas > nota_esperada\n",
        "\n",
        "# Imprimir as estatísticas\n",
        "print(f\"A maioria dos participantes é do sexo feminino ({proporcao_feminino}%)\")\n",
        "print(f\"A maioria dos participantes tem entre 17 e 20 anos ({proporcao_17_20_anos}%)\")\n",
        "print(f\"A maioria dos participantes é de cor preta ou parda ({proporcao_preto_pardo}%)\")\n",
        "print(f\"A renda familiar média dos participantes é de R${renda_participantes:.2f}\")\n",
        "print(f\"A maioria dos participantes mora na região Nordeste ({proporcao_nordeste}%)\")\n",
        "print(f\"A maioria dos participantes estudou em escola pública ({proporcao_escola_publica}%)\")\n",
        "print(f\"A média das notas dos participantes em matemática foi de {media_notas}\")\n"
      ],
      "metadata": {
        "id": "OeLR9RnhOYxk",
        "colab": {
          "base_uri": "https://localhost:8080/"
        },
        "outputId": "564d4b6f-b556-4976-ea96-f0dba75f3edc"
      },
      "execution_count": null,
      "outputs": [
        {
          "output_type": "stream",
          "name": "stdout",
          "text": [
            "A maioria dos participantes é do sexo feminino (61.0%)\n",
            "A maioria dos participantes tem entre 17 e 20 anos (62.5%)\n",
            "A maioria dos participantes é de cor preta ou parda (54.6%)\n",
            "A renda familiar média dos participantes é de R$3162.37\n",
            "A maioria dos participantes mora na região Nordeste (8.6%)\n",
            "A maioria dos participantes estudou em escola pública (31.8%)\n",
            "A média das notas dos participantes em matemática foi de 542.5\n"
          ]
        }
      ]
    },
    {
      "cell_type": "markdown",
      "source": [
        "## Explicação do código\n",
        "\n",
        "O código começa carregando o dataset do Enem 2022 usando a biblioteca Pandas. Em seguida, define as informações esperadas, que foram fornecidas no enunciado.\n",
        "\n",
        "A função assert é usada para verificar se as informações do dataset são válidas. Por exemplo, a função assert proporcao_feminino > 0.55 verifica se a proporção de participantes do sexo feminino é maior que 55%.\n",
        "\n",
        "Se todas as informações forem válidas, o código imprime a mensagem \"Todas as informações são válidas!\"."
      ],
      "metadata": {
        "id": "2dik16EFVrL6"
      }
    },
    {
      "cell_type": "markdown",
      "source": [
        "## Resultados Análise Descritiva\n",
        "Os resultados da EDA do Enem 2022 mostram que o público do exame é predominantemente feminino, jovem, de cor preta ou parda, de baixa renda e com ensino médio completo.\n",
        "\n",
        "O público do Enem é predominantemente feminino e jovem. Isso pode ser devido a uma série de fatores, incluindo o fato de que as mulheres são mais propensas a se matricular no ensino superior e de que os jovens são mais propensos a se preparar para o Enem.\n",
        "Os participantes do Enem são predominantemente de baixa renda. Isso pode ser devido ao fato de que o Enem é um exame gratuito e de que as pessoas de baixa renda são mais propensas a buscar oportunidades de educação superior.\n",
        "Os participantes do Enem estão tendo dificuldade em matemática. Isso pode ser devido a uma série de fatores, incluindo o fato de que a matemática é uma disciplina desafiadora e de que o ensino de matemática no Brasil não é uniforme."
      ],
      "metadata": {
        "id": "ZH2f_ldJT-B-"
      }
    },
    {
      "cell_type": "code",
      "source": [
        "# Histograma das notas\n",
        "notas_disciplinas = ['NU_NOTA_LC', 'NU_NOTA_CH', 'NU_NOTA_CN', 'NU_NOTA_MT']\n",
        "df[notas_disciplinas].plot(kind='hist', subplots=True, layout=(2, 2), figsize=(12, 8),bins=100)\n",
        "plt.suptitle(\"Distribuição das Notas em Diferentes Disciplinas\")\n",
        "plt.show()"
      ],
      "metadata": {
        "colab": {
          "base_uri": "https://localhost:8080/",
          "height": 756
        },
        "id": "EjfWkEl-DxZ7",
        "outputId": "3714151c-e414-4202-9a81-31019aaaa475"
      },
      "execution_count": null,
      "outputs": [
        {
          "output_type": "display_data",
          "data": {
            "text/plain": [
              "<Figure size 1200x800 with 4 Axes>"
            ],
            "image/png": "[encoded data removed]"
          },
          "metadata": {}
        }
      ]
    },
    {
      "cell_type": "markdown",
      "source": [
        "Os dois gráficos fornecem insights sobre as notas do Enem 2022. O histograma das notas mostra que as notas de linguagens são as mais altas, enquanto as notas de matemática são as mais baixas.\n",
        "\n",
        "Aqui estão algumas perguntas específicas que podem ser respondidas com a mineração de dados:\n",
        "\n",
        "* Quais são as áreas de conhecimento que os participantes têm mais dificuldade?\n",
        "* Quais são as áreas de conhecimento que os participantes têm mais facilidade?\n",
        "* Existem diferenças de desempenho entre diferentes grupos de participantes?\n",
        "* Quais são os fatores que contribuem para o desempenho dos participantes?\n",
        "\n",
        "\n"
      ],
      "metadata": {
        "id": "BBdOoLDZGNtS"
      }
    },
    {
      "cell_type": "code",
      "source": [
        "df =  pd.read_csv(\"microdados.csv\",sep=\";\",encoding=\"latin\",usecols=['TX_RESPOSTAS_LC','TX_RESPOSTAS_CH','TX_RESPOSTAS_CN','TX_RESPOSTAS_MT']).dropna()"
      ],
      "metadata": {
        "id": "rLWGwfTsIvj1"
      },
      "execution_count": null,
      "outputs": []
    },
    {
      "cell_type": "code",
      "source": [
        "def contar_ocorrencias(string, char):\n",
        "    return string.count(char)\n",
        "# Definir os caracteres a serem contados\n",
        "caracteres_a_contar = ['A', 'B', 'C', 'D','E']\n",
        "areas_conhecimento = {\n",
        "    'Linguagens e Códigos': {\n",
        "        'coluna_respostas': 'TX_RESPOSTAS_LC',\n",
        "        'cor': 'b'  # Azul\n",
        "    },\n",
        "    'Ciências Humanas': {\n",
        "        'coluna_respostas': 'TX_RESPOSTAS_CH',\n",
        "        'cor': 'g'  # Verde\n",
        "    },\n",
        "    'Ciências da Natureza': {\n",
        "        'coluna_respostas': 'TX_RESPOSTAS_CN',\n",
        "        'cor': 'r'  # Vermelho\n",
        "    },\n",
        "    'Matemática': {\n",
        "        'coluna_respostas': 'TX_RESPOSTAS_MT',\n",
        "        'cor': 'y'  # Amarelo\n",
        "    }\n",
        "}\n",
        "# Definir uma paleta de cores variadas\n",
        "cores = sns.color_palette('husl', len(caracteres_a_contar))\n",
        "# Criar uma figura com subplots em uma grade 2x2\n",
        "fig, axs = plt.subplots(2, 2, figsize=(12, 8))\n",
        "fig.suptitle(\"Respostas Mais Comuns em Áreas do Conhecimento\")\n",
        "\n",
        "# Iterar sobre as áreas do conhecimento e criar os gráficos de barras\n",
        "for i, (area, info) in enumerate(areas_conhecimento.items()):\n",
        "    coluna_respostas = info[\"coluna_respostas\"]\n",
        "    cor = info[\"cor\"]\n",
        "    row, col = i // 2, i % 2  # Calcular a posição no subplot 2x2\n",
        "    ax = axs[row, col]\n",
        "    # Selecionar as respostas\n",
        "    df_area = df[coluna_respostas]\n",
        "    # Criar um dicionário para armazenar a contagem de cada resposta\n",
        "    contagens = {}\n",
        "    for caractere in caracteres_a_contar:\n",
        "        contagens[caractere] = df_area.swifter.progress_bar(False).apply(contar_ocorrencias, char=caractere).sum()\n",
        "\n",
        "    # Plotar o bar plot\n",
        "    ax.bar(contagens.keys(), contagens.values(),color=cor)\n",
        "    ax.set_title(f\"Respostas Mais Comuns em {area}\")\n",
        "    ax.set_xlabel(\"Respostas\")\n",
        "    ax.set_ylabel(\"Frequência\")\n",
        "    ax.set_xticklabels(contagens.keys(), rotation=45)\n",
        "# Ajustar o layout para evitar sobreposição\n",
        "plt.tight_layout()\n",
        "\n",
        "# Exibir os gráficos\n",
        "plt.show()"
      ],
      "metadata": {
        "colab": {
          "base_uri": "https://localhost:8080/",
          "height": 806
        },
        "id": "0vv_xvWeKQ1o",
        "outputId": "81ab9ec7-983b-4126-e2eb-b63767ab6874"
      },
      "execution_count": null,
      "outputs": [
        {
          "output_type": "display_data",
          "data": {
            "text/plain": [
              "<Figure size 1200x800 with 4 Axes>"
            ],
            "image/png": "[encoded data removed]"
          },
          "metadata": {}
        }
      ]
    },
    {
      "cell_type": "markdown",
      "source": [
        "## Resultados\n",
        "\n",
        "Os resultados apresentados na imagem mostram que a resposta \"A\" é a mais comum em todas as áreas do conhecimento do Enem 2022, com uma contagem de mais de 2,9 milhões em cada área. A resposta \"B\" é a segunda mais comum em todas as áreas do conhecimento, com uma contagem de mais de 2,6 milhões em cada área. As respostas \"C\" e \"D\" têm uma contagem de aproximadamente 2,5 milhões cada.\n",
        "\n",
        "Esses resultados sugerem que os participantes do Enem tendem a escolher a resposta mais óbvia ou a resposta que parece mais correta. Isso pode ser devido a uma série de fatores, incluindo o fato de que os participantes têm pouco tempo para responder às questões ou de que os participantes não têm certeza da resposta correta.\n",
        "\n",
        "Aqui estão algumas considerações adicionais sobre os resultados:\n",
        "\n",
        "A resposta \"A\" é a mais comum em todas as áreas do conhecimento. Isso sugere que os participantes tendem a seguir um padrão de resposta, independentemente da área do conhecimento.\n",
        "A resposta \"B\" é a segunda mais comum em todas as áreas do conhecimento. Isso sugere que os participantes estão mais propensos a escolher uma resposta que é diferente da resposta mais comum.\n",
        "As respostas \"C\" e \"D\" têm uma contagem semelhante. Isso sugere que os participantes estão mais propensos a escolher uma resposta que não seja a resposta mais comum ou a resposta mais óbvia."
      ],
      "metadata": {
        "id": "-HnwP4A4UnEe"
      }
    },
    {
      "cell_type": "markdown",
      "source": [
        "##**3. Data preparation (Preparação dos dados)**"
      ],
      "metadata": {
        "id": "YBK0Ro38J8kF"
      }
    },
    {
      "cell_type": "markdown",
      "source": [
        "\n",
        "Os problemas de dados faltantes e pessoas que não responderam a prova podem ser corrigidos de várias maneiras.\n",
        "\n",
        "Pessoas que não responderam a prova\n",
        "\n",
        "As pessoas que não responderam a prova podem ser identificadas e removidas da análise. Isso pode ser feito usando uma combinação de dados demográficos e dados sobre o desempenho no exame. Por exemplo, as pessoas que não responderam a prova podem ser identificadas como aquelas que não responderam a nenhuma das questões ou que responderam a apenas um número muito pequeno de questões."
      ],
      "metadata": {
        "id": "kK69M8UrVUav"
      }
    },
    {
      "cell_type": "code",
      "source": [
        "colunas_categoricas = ['TP_DEPENDENCIA_ADM_ESC', 'TP_FAIXA_ETARIA', 'SG_UF_ESC',\"Q006\",\"TP_SEXO\"]\n",
        "colunas = colunas_categoricas + ['NU_INSCRICAO','TX_RESPOSTAS_LC','TX_RESPOSTAS_CH','TX_RESPOSTAS_CN','TX_RESPOSTAS_MT',\"CO_PROVA_CN\"]"
      ],
      "metadata": {
        "id": "zfo1D18BOXzl"
      },
      "execution_count": null,
      "outputs": []
    },
    {
      "cell_type": "code",
      "source": [
        "df = pd.read_csv(\"microdados.csv\",sep=\";\",encoding=\"latin\",usecols=colunas).dropna()\n",
        "df = df[df[\"CO_PROVA_CN\"] == 1092] # prova laranja"
      ],
      "metadata": {
        "id": "eWLGlcNQBHYJ"
      },
      "execution_count": null,
      "outputs": []
    },
    {
      "cell_type": "markdown",
      "source": [
        "### Alguns exemplos de padrões frequentes que podem ser identificados nas respostas dos participantes:\n",
        "\n",
        "\n",
        "*   Sequências de respostas que são frequentemente corretas.\n",
        "*   Sequências de respostas que são frequentemente incorretas.\n",
        "*   Sequências de respostas que são escolhidas por participantes de um  determinado grupo demográfico.\n",
        "*   Sequências de respostas que são escolhidas por participantes de um determinado nível de desempenho."
      ],
      "metadata": {
        "id": "L-AQN48ZWGsP"
      }
    },
    {
      "cell_type": "code",
      "source": [
        "# Dicionário de mapeamento de prefixos\n",
        "prefixos = ['LC_', 'CH_', 'CN_', 'MT_']\n",
        "\n",
        "# Função para transformar a sequência\n",
        "def transformar_sequencia(sequencia,prefixo):\n",
        "    nova_sequencia = ''\n",
        "    disciplina_atual = ''\n",
        "    contador = 1\n",
        "\n",
        "    for caractere in sequencia:\n",
        "      nova_sequencia += f'{prefixo}{contador}_{caractere};'\n",
        "      contador += 1\n",
        "\n",
        "    return nova_sequencia[:-1]  # Remove o ponto e vírgula extra no final\n",
        "\n",
        "\n",
        "df['Representacao_Completa'] = ''\n",
        "for area in ['TX_RESPOSTAS_LC','TX_RESPOSTAS_CH','TX_RESPOSTAS_CN','TX_RESPOSTAS_MT']:\n",
        "  df[f'Representacao_{area}'] = df[area].swifter.progress_bar(False).apply(lambda x: transformar_sequencia(x,area[13:]))\n",
        "  df['Representacao_Completa'] += df[f'Representacao_{area}'] + ';'\n",
        "\n",
        "# Remova o ponto e vírgula extra no final\n",
        "df['Representacao_Completa'] = df['Representacao_Completa'].str[:-1]\n"
      ],
      "metadata": {
        "id": "IgC48dcEWjeb"
      },
      "execution_count": null,
      "outputs": []
    },
    {
      "cell_type": "code",
      "source": [
        "def transformar_sequencia(sequencia,prefixo):\n",
        "    nova_sequencia = ''\n",
        "    disciplina_atual = ''\n",
        "    nova_sequencia += f'{prefixo}_{str(sequencia)};'\n",
        "    return nova_sequencia[:-1]  # Remove o ponto e vírgula extra no final\n",
        "\n",
        "for coluna in colunas_categoricas:\n",
        "  df['Representacao_Completa'] += df[coluna].swifter.progress_bar(False).apply(lambda x: transformar_sequencia(x,coluna)) + ';'\n",
        "# Remova o ponto e vírgula extra no final\n",
        "df['Representacao_Completa'] = df['Representacao_Completa'].str[:-1]"
      ],
      "metadata": {
        "id": "CTTXnt1e8XnR"
      },
      "execution_count": null,
      "outputs": []
    },
    {
      "cell_type": "markdown",
      "source": [
        "##**4. Modeling (Modelagem)**"
      ],
      "metadata": {
        "id": "AjlBKt3FKJhA"
      }
    },
    {
      "cell_type": "markdown",
      "source": [
        "Nessa parte, os items são representados como strings separadas por \";\", dessa forma, é fácil gerar a tabela transacional para os dados processados:"
      ],
      "metadata": {
        "id": "T4u-bKwrKOOv"
      }
    },
    {
      "cell_type": "code",
      "source": [
        "dataset = df['Representacao_Completa'].str.split(\";\")\n",
        "\n",
        "te = TransactionEncoder()\n",
        "te_ary = te.fit(dataset).transform(dataset)\n",
        "df2 = pd.DataFrame(te_ary, columns=te.columns_)"
      ],
      "metadata": {
        "id": "P_YEjbzyOXC9"
      },
      "execution_count": null,
      "outputs": []
    },
    {
      "cell_type": "markdown",
      "source": [
        "Minsup foi escolhido como 20% pois apresenta um tempo de computação razoável, junto com um conjunto de dados diverso"
      ],
      "metadata": {
        "id": "ojuaAiWMqm1H"
      }
    },
    {
      "cell_type": "code",
      "source": [
        "frequent_itemsets = apriori(df2, min_support=0.4,use_colnames=True)\n",
        "print(len(frequent_itemsets))"
      ],
      "metadata": {
        "colab": {
          "base_uri": "https://localhost:8080/"
        },
        "id": "cetRNmB4BMUx",
        "outputId": "5ac3dda9-c16a-4b75-8405-4215b2b170db"
      },
      "execution_count": null,
      "outputs": [
        {
          "output_type": "stream",
          "name": "stdout",
          "text": [
            "376\n"
          ]
        }
      ]
    },
    {
      "cell_type": "markdown",
      "source": [
        "##**5. Evaluation (Validação)**\n"
      ],
      "metadata": {
        "id": "F1UAOjMXMfrg"
      }
    },
    {
      "cell_type": "code",
      "source": [
        "association_rules(frequent_itemsets, metric=\"lift\").sort_values(by=[\"lift\",\"support\",\"confidence\"], ascending=False).head(15)"
      ],
      "metadata": {
        "id": "g37UqSQCOWX8",
        "colab": {
          "base_uri": "https://localhost:8080/",
          "height": 571
        },
        "outputId": "7e5e9286-6c2e-4ff5-8835-801cd7944f5f"
      },
      "execution_count": null,
      "outputs": [
        {
          "output_type": "execute_result",
          "data": {
            "text/plain": [
              "                   antecedents               consequents  antecedent support  \\\n",
              "1225           (CH30_B, LC6_C)          (CH18_A, LC20_A)            0.486486   \n",
              "1228          (CH18_A, LC20_A)           (CH30_B, LC6_C)            0.581081   \n",
              "1375   (CH18_A, LC9_D, LC20_A)                   (LC6_C)            0.513514   \n",
              "1386                   (LC6_C)   (CH18_A, LC9_D, LC20_A)            0.540541   \n",
              "1493            (LC7_C, LC9_D)          (CH30_B, LC20_A)            0.486486   \n",
              "1492          (CH30_B, LC20_A)            (LC7_C, LC9_D)            0.594595   \n",
              "1381            (LC9_D, LC6_C)          (CH18_A, LC20_A)            0.486486   \n",
              "1380          (CH18_A, LC20_A)            (LC9_D, LC6_C)            0.581081   \n",
              "1221  (CH18_A, CH30_B, LC20_A)                   (LC6_C)            0.540541   \n",
              "1232                   (LC6_C)  (CH18_A, CH30_B, LC20_A)            0.540541   \n",
              "588                    (LC6_C)          (CH18_A, LC20_A)            0.540541   \n",
              "585           (CH18_A, LC20_A)                   (LC6_C)            0.581081   \n",
              "1268           (CH30_B, LC6_C)           (CH18_A, LC9_D)            0.486486   \n",
              "1269           (CH18_A, LC9_D)           (CH30_B, LC6_C)            0.608108   \n",
              "1241           (CH18_A, LC7_C)          (CH30_B, LC20_A)            0.486486   \n",
              "\n",
              "      consequent support   support  confidence      lift  leverage  \\\n",
              "1225            0.581081  0.432432    0.888889  1.529716  0.149744   \n",
              "1228            0.486486  0.432432    0.744186  1.529716  0.149744   \n",
              "1375            0.540541  0.418919    0.815789  1.509211  0.141344   \n",
              "1386            0.513514  0.418919    0.775000  1.509211  0.141344   \n",
              "1493            0.594595  0.432432    0.888889  1.494949  0.143170   \n",
              "1492            0.486486  0.432432    0.727273  1.494949  0.143170   \n",
              "1381            0.581081  0.418919    0.861111  1.481912  0.136231   \n",
              "1380            0.486486  0.418919    0.720930  1.481912  0.136231   \n",
              "1221            0.540541  0.432432    0.800000  1.480000  0.140248   \n",
              "1232            0.540541  0.432432    0.800000  1.480000  0.140248   \n",
              "588             0.581081  0.459459    0.850000  1.462791  0.145362   \n",
              "585             0.540541  0.459459    0.790698  1.462791  0.145362   \n",
              "1268            0.608108  0.432432    0.888889  1.461728  0.136596   \n",
              "1269            0.486486  0.432432    0.711111  1.461728  0.136596   \n",
              "1241            0.594595  0.418919    0.861111  1.448232  0.129657   \n",
              "\n",
              "      conviction  zhangs_metric  \n",
              "1225    3.770270       0.674342  \n",
              "1228    2.007371       0.826613  \n",
              "1375    2.494208       0.693548  \n",
              "1386    2.162162       0.734345  \n",
              "1493    3.648649       0.644737  \n",
              "1492    1.882883       0.816667  \n",
              "1381    3.016216       0.633277  \n",
              "1380    1.840090       0.776275  \n",
              "1221    2.297297       0.705882  \n",
              "1232    2.297297       0.705882  \n",
              "588     2.792793       0.688581  \n",
              "585     2.195195       0.755218  \n",
              "1268    3.527027       0.615132  \n",
              "1269    1.777547       0.806034  \n",
              "1241    2.918919       0.602716  "
            ],
            "text/html": [
              "\n",
              "  <div id=\"df-e2f2e05f-b119-41bd-bd7e-e320920cf4f7\" class=\"colab-df-container\">\n",
              "    <div>\n",
              "<style scoped>\n",
              "    .dataframe tbody tr th:only-of-type {\n",
              "        vertical-align: middle;\n",
              "    }\n",
              "\n",
              "    .dataframe tbody tr th {\n",
              "        vertical-align: top;\n",
              "    }\n",
              "\n",
              "    .dataframe thead th {\n",
              "        text-align: right;\n",
              "    }\n",
              "</style>\n",
              "<table border=\"1\" class=\"dataframe\">\n",
              "  <thead>\n",
              "    <tr style=\"text-align: right;\">\n",
              "      <th></th>\n",
              "      <th>antecedents</th>\n",
              "      <th>consequents</th>\n",
              "      <th>antecedent support</th>\n",
              "      <th>consequent support</th>\n",
              "      <th>support</th>\n",
              "      <th>confidence</th>\n",
              "      <th>lift</th>\n",
              "      <th>leverage</th>\n",
              "      <th>conviction</th>\n",
              "      <th>zhangs_metric</th>\n",
              "    </tr>\n",
              "  </thead>\n",
              "  <tbody>\n",
              "    <tr>\n",
              "      <th>1225</th>\n",
              "      <td>(CH30_B, LC6_C)</td>\n",
              "      <td>(CH18_A, LC20_A)</td>\n",
              "      <td>0.486486</td>\n",
              "      <td>0.581081</td>\n",
              "      <td>0.432432</td>\n",
              "      <td>0.888889</td>\n",
              "      <td>1.529716</td>\n",
              "      <td>0.149744</td>\n",
              "      <td>3.770270</td>\n",
              "      <td>0.674342</td>\n",
              "    </tr>\n",
              "    <tr>\n",
              "      <th>1228</th>\n",
              "      <td>(CH18_A, LC20_A)</td>\n",
              "      <td>(CH30_B, LC6_C)</td>\n",
              "      <td>0.581081</td>\n",
              "      <td>0.486486</td>\n",
              "      <td>0.432432</td>\n",
              "      <td>0.744186</td>\n",
              "      <td>1.529716</td>\n",
              "      <td>0.149744</td>\n",
              "      <td>2.007371</td>\n",
              "      <td>0.826613</td>\n",
              "    </tr>\n",
              "    <tr>\n",
              "      <th>1375</th>\n",
              "      <td>(CH18_A, LC9_D, LC20_A)</td>\n",
              "      <td>(LC6_C)</td>\n",
              "      <td>0.513514</td>\n",
              "      <td>0.540541</td>\n",
              "      <td>0.418919</td>\n",
              "      <td>0.815789</td>\n",
              "      <td>1.509211</td>\n",
              "      <td>0.141344</td>\n",
              "      <td>2.494208</td>\n",
              "      <td>0.693548</td>\n",
              "    </tr>\n",
              "    <tr>\n",
              "      <th>1386</th>\n",
              "      <td>(LC6_C)</td>\n",
              "      <td>(CH18_A, LC9_D, LC20_A)</td>\n",
              "      <td>0.540541</td>\n",
              "      <td>0.513514</td>\n",
              "      <td>0.418919</td>\n",
              "      <td>0.775000</td>\n",
              "      <td>1.509211</td>\n",
              "      <td>0.141344</td>\n",
              "      <td>2.162162</td>\n",
              "      <td>0.734345</td>\n",
              "    </tr>\n",
              "    <tr>\n",
              "      <th>1493</th>\n",
              "      <td>(LC7_C, LC9_D)</td>\n",
              "      <td>(CH30_B, LC20_A)</td>\n",
              "      <td>0.486486</td>\n",
              "      <td>0.594595</td>\n",
              "      <td>0.432432</td>\n",
              "      <td>0.888889</td>\n",
              "      <td>1.494949</td>\n",
              "      <td>0.143170</td>\n",
              "      <td>3.648649</td>\n",
              "      <td>0.644737</td>\n",
              "    </tr>\n",
              "    <tr>\n",
              "      <th>1492</th>\n",
              "      <td>(CH30_B, LC20_A)</td>\n",
              "      <td>(LC7_C, LC9_D)</td>\n",
              "      <td>0.594595</td>\n",
              "      <td>0.486486</td>\n",
              "      <td>0.432432</td>\n",
              "      <td>0.727273</td>\n",
              "      <td>1.494949</td>\n",
              "      <td>0.143170</td>\n",
              "      <td>1.882883</td>\n",
              "      <td>0.816667</td>\n",
              "    </tr>\n",
              "    <tr>\n",
              "      <th>1381</th>\n",
              "      <td>(LC9_D, LC6_C)</td>\n",
              "      <td>(CH18_A, LC20_A)</td>\n",
              "      <td>0.486486</td>\n",
              "      <td>0.581081</td>\n",
              "      <td>0.418919</td>\n",
              "      <td>0.861111</td>\n",
              "      <td>1.481912</td>\n",
              "      <td>0.136231</td>\n",
              "      <td>3.016216</td>\n",
              "      <td>0.633277</td>\n",
              "    </tr>\n",
              "    <tr>\n",
              "      <th>1380</th>\n",
              "      <td>(CH18_A, LC20_A)</td>\n",
              "      <td>(LC9_D, LC6_C)</td>\n",
              "      <td>0.581081</td>\n",
              "      <td>0.486486</td>\n",
              "      <td>0.418919</td>\n",
              "      <td>0.720930</td>\n",
              "      <td>1.481912</td>\n",
              "      <td>0.136231</td>\n",
              "      <td>1.840090</td>\n",
              "      <td>0.776275</td>\n",
              "    </tr>\n",
              "    <tr>\n",
              "      <th>1221</th>\n",
              "      <td>(CH18_A, CH30_B, LC20_A)</td>\n",
              "      <td>(LC6_C)</td>\n",
              "      <td>0.540541</td>\n",
              "      <td>0.540541</td>\n",
              "      <td>0.432432</td>\n",
              "      <td>0.800000</td>\n",
              "      <td>1.480000</td>\n",
              "      <td>0.140248</td>\n",
              "      <td>2.297297</td>\n",
              "      <td>0.705882</td>\n",
              "    </tr>\n",
              "    <tr>\n",
              "      <th>1232</th>\n",
              "      <td>(LC6_C)</td>\n",
              "      <td>(CH18_A, CH30_B, LC20_A)</td>\n",
              "      <td>0.540541</td>\n",
              "      <td>0.540541</td>\n",
              "      <td>0.432432</td>\n",
              "      <td>0.800000</td>\n",
              "      <td>1.480000</td>\n",
              "      <td>0.140248</td>\n",
              "      <td>2.297297</td>\n",
              "      <td>0.705882</td>\n",
              "    </tr>\n",
              "    <tr>\n",
              "      <th>588</th>\n",
              "      <td>(LC6_C)</td>\n",
              "      <td>(CH18_A, LC20_A)</td>\n",
              "      <td>0.540541</td>\n",
              "      <td>0.581081</td>\n",
              "      <td>0.459459</td>\n",
              "      <td>0.850000</td>\n",
              "      <td>1.462791</td>\n",
              "      <td>0.145362</td>\n",
              "      <td>2.792793</td>\n",
              "      <td>0.688581</td>\n",
              "    </tr>\n",
              "    <tr>\n",
              "      <th>585</th>\n",
              "      <td>(CH18_A, LC20_A)</td>\n",
              "      <td>(LC6_C)</td>\n",
              "      <td>0.581081</td>\n",
              "      <td>0.540541</td>\n",
              "      <td>0.459459</td>\n",
              "      <td>0.790698</td>\n",
              "      <td>1.462791</td>\n",
              "      <td>0.145362</td>\n",
              "      <td>2.195195</td>\n",
              "      <td>0.755218</td>\n",
              "    </tr>\n",
              "    <tr>\n",
              "      <th>1268</th>\n",
              "      <td>(CH30_B, LC6_C)</td>\n",
              "      <td>(CH18_A, LC9_D)</td>\n",
              "      <td>0.486486</td>\n",
              "      <td>0.608108</td>\n",
              "      <td>0.432432</td>\n",
              "      <td>0.888889</td>\n",
              "      <td>1.461728</td>\n",
              "      <td>0.136596</td>\n",
              "      <td>3.527027</td>\n",
              "      <td>0.615132</td>\n",
              "    </tr>\n",
              "    <tr>\n",
              "      <th>1269</th>\n",
              "      <td>(CH18_A, LC9_D)</td>\n",
              "      <td>(CH30_B, LC6_C)</td>\n",
              "      <td>0.608108</td>\n",
              "      <td>0.486486</td>\n",
              "      <td>0.432432</td>\n",
              "      <td>0.711111</td>\n",
              "      <td>1.461728</td>\n",
              "      <td>0.136596</td>\n",
              "      <td>1.777547</td>\n",
              "      <td>0.806034</td>\n",
              "    </tr>\n",
              "    <tr>\n",
              "      <th>1241</th>\n",
              "      <td>(CH18_A, LC7_C)</td>\n",
              "      <td>(CH30_B, LC20_A)</td>\n",
              "      <td>0.486486</td>\n",
              "      <td>0.594595</td>\n",
              "      <td>0.418919</td>\n",
              "      <td>0.861111</td>\n",
              "      <td>1.448232</td>\n",
              "      <td>0.129657</td>\n",
              "      <td>2.918919</td>\n",
              "      <td>0.602716</td>\n",
              "    </tr>\n",
              "  </tbody>\n",
              "</table>\n",
              "</div>\n",
              "    <div class=\"colab-df-buttons\">\n",
              "\n",
              "  <div class=\"colab-df-container\">\n",
              "    <button class=\"colab-df-convert\" onclick=\"convertToInteractive('df-e2f2e05f-b119-41bd-bd7e-e320920cf4f7')\"\n",
              "            title=\"Convert this dataframe to an interactive table.\"\n",
              "            style=\"display:none;\">\n",
              "\n",
              "  <svg xmlns=\"http://www.w3.org/2000/svg\" height=\"24px\" viewBox=\"0 -960 960 960\">\n",
              "    <path d=\"M120-120v-720h720v720H120Zm60-500h600v-160H180v160Zm220 220h160v-160H400v160Zm0 220h160v-160H400v160ZM180-400h160v-160H180v160Zm440 0h160v-160H620v160ZM180-180h160v-160H180v160Zm440 0h160v-160H620v160Z\"/>\n",
              "  </svg>\n",
              "    </button>\n",
              "\n",
              "  <style>\n",
              "    .colab-df-container {\n",
              "      display:flex;\n",
              "      gap: 12px;\n",
              "    }\n",
              "\n",
              "    .colab-df-convert {\n",
              "      background-color: #E8F0FE;\n",
              "      border: none;\n",
              "      border-radius: 50%;\n",
              "      cursor: pointer;\n",
              "      display: none;\n",
              "      fill: #1967D2;\n",
              "      height: 32px;\n",
              "      padding: 0 0 0 0;\n",
              "      width: 32px;\n",
              "    }\n",
              "\n",
              "    .colab-df-convert:hover {\n",
              "      background-color: #E2EBFA;\n",
              "      box-shadow: 0px 1px 2px rgba(60, 64, 67, 0.3), 0px 1px 3px 1px rgba(60, 64, 67, 0.15);\n",
              "      fill: #174EA6;\n",
              "    }\n",
              "\n",
              "    .colab-df-buttons div {\n",
              "      margin-bottom: 4px;\n",
              "    }\n",
              "\n",
              "    [theme=dark] .colab-df-convert {\n",
              "      background-color: #3B4455;\n",
              "      fill: #D2E3FC;\n",
              "    }\n",
              "\n",
              "    [theme=dark] .colab-df-convert:hover {\n",
              "      background-color: #434B5C;\n",
              "      box-shadow: 0px 1px 3px 1px rgba(0, 0, 0, 0.15);\n",
              "      filter: drop-shadow(0px 1px 2px rgba(0, 0, 0, 0.3));\n",
              "      fill: #FFFFFF;\n",
              "    }\n",
              "  </style>\n",
              "\n",
              "    <script>\n",
              "      const buttonEl =\n",
              "        document.querySelector('#df-e2f2e05f-b119-41bd-bd7e-e320920cf4f7 button.colab-df-convert');\n",
              "      buttonEl.style.display =\n",
              "        google.colab.kernel.accessAllowed ? 'block' : 'none';\n",
              "\n",
              "      async function convertToInteractive(key) {\n",
              "        const element = document.querySelector('#df-e2f2e05f-b119-41bd-bd7e-e320920cf4f7');\n",
              "        const dataTable =\n",
              "          await google.colab.kernel.invokeFunction('convertToInteractive',\n",
              "                                                    [key], {});\n",
              "        if (!dataTable) return;\n",
              "\n",
              "        const docLinkHtml = 'Like what you see? Visit the ' +\n",
              "          '<a target=\"_blank\" href=https://colab.research.google.com/notebooks/data_table.ipynb>data table notebook</a>'\n",
              "          + ' to learn more about interactive tables.';\n",
              "        element.innerHTML = '';\n",
              "        dataTable['output_type'] = 'display_data';\n",
              "        await google.colab.output.renderOutput(dataTable, element);\n",
              "        const docLink = document.createElement('div');\n",
              "        docLink.innerHTML = docLinkHtml;\n",
              "        element.appendChild(docLink);\n",
              "      }\n",
              "    </script>\n",
              "  </div>\n",
              "\n",
              "\n",
              "<div id=\"df-6738e21a-133c-4958-b349-7bba07280446\">\n",
              "  <button class=\"colab-df-quickchart\" onclick=\"quickchart('df-6738e21a-133c-4958-b349-7bba07280446')\"\n",
              "            title=\"Suggest charts.\"\n",
              "            style=\"display:none;\">\n",
              "\n",
              "<svg xmlns=\"http://www.w3.org/2000/svg\" height=\"24px\"viewBox=\"0 0 24 24\"\n",
              "     width=\"24px\">\n",
              "    <g>\n",
              "        <path d=\"M19 3H5c-1.1 0-2 .9-2 2v14c0 1.1.9 2 2 2h14c1.1 0 2-.9 2-2V5c0-1.1-.9-2-2-2zM9 17H7v-7h2v7zm4 0h-2V7h2v10zm4 0h-2v-4h2v4z\"/>\n",
              "    </g>\n",
              "</svg>\n",
              "  </button>\n",
              "\n",
              "<style>\n",
              "  .colab-df-quickchart {\n",
              "      --bg-color: #E8F0FE;\n",
              "      --fill-color: #1967D2;\n",
              "      --hover-bg-color: #E2EBFA;\n",
              "      --hover-fill-color: #174EA6;\n",
              "      --disabled-fill-color: #AAA;\n",
              "      --disabled-bg-color: #DDD;\n",
              "  }\n",
              "\n",
              "  [theme=dark] .colab-df-quickchart {\n",
              "      --bg-color: #3B4455;\n",
              "      --fill-color: #D2E3FC;\n",
              "      --hover-bg-color: #434B5C;\n",
              "      --hover-fill-color: #FFFFFF;\n",
              "      --disabled-bg-color: #3B4455;\n",
              "      --disabled-fill-color: #666;\n",
              "  }\n",
              "\n",
              "  .colab-df-quickchart {\n",
              "    background-color: var(--bg-color);\n",
              "    border: none;\n",
              "    border-radius: 50%;\n",
              "    cursor: pointer;\n",
              "    display: none;\n",
              "    fill: var(--fill-color);\n",
              "    height: 32px;\n",
              "    padding: 0;\n",
              "    width: 32px;\n",
              "  }\n",
              "\n",
              "  .colab-df-quickchart:hover {\n",
              "    background-color: var(--hover-bg-color);\n",
              "    box-shadow: 0 1px 2px rgba(60, 64, 67, 0.3), 0 1px 3px 1px rgba(60, 64, 67, 0.15);\n",
              "    fill: var(--button-hover-fill-color);\n",
              "  }\n",
              "\n",
              "  .colab-df-quickchart-complete:disabled,\n",
              "  .colab-df-quickchart-complete:disabled:hover {\n",
              "    background-color: var(--disabled-bg-color);\n",
              "    fill: var(--disabled-fill-color);\n",
              "    box-shadow: none;\n",
              "  }\n",
              "\n",
              "  .colab-df-spinner {\n",
              "    border: 2px solid var(--fill-color);\n",
              "    border-color: transparent;\n",
              "    border-bottom-color: var(--fill-color);\n",
              "    animation:\n",
              "      spin 1s steps(1) infinite;\n",
              "  }\n",
              "\n",
              "  @keyframes spin {\n",
              "    0% {\n",
              "      border-color: transparent;\n",
              "      border-bottom-color: var(--fill-color);\n",
              "      border-left-color: var(--fill-color);\n",
              "    }\n",
              "    20% {\n",
              "      border-color: transparent;\n",
              "      border-left-color: var(--fill-color);\n",
              "      border-top-color: var(--fill-color);\n",
              "    }\n",
              "    30% {\n",
              "      border-color: transparent;\n",
              "      border-left-color: var(--fill-color);\n",
              "      border-top-color: var(--fill-color);\n",
              "      border-right-color: var(--fill-color);\n",
              "    }\n",
              "    40% {\n",
              "      border-color: transparent;\n",
              "      border-right-color: var(--fill-color);\n",
              "      border-top-color: var(--fill-color);\n",
              "    }\n",
              "    60% {\n",
              "      border-color: transparent;\n",
              "      border-right-color: var(--fill-color);\n",
              "    }\n",
              "    80% {\n",
              "      border-color: transparent;\n",
              "      border-right-color: var(--fill-color);\n",
              "      border-bottom-color: var(--fill-color);\n",
              "    }\n",
              "    90% {\n",
              "      border-color: transparent;\n",
              "      border-bottom-color: var(--fill-color);\n",
              "    }\n",
              "  }\n",
              "</style>\n",
              "\n",
              "  <script>\n",
              "    async function quickchart(key) {\n",
              "      const quickchartButtonEl =\n",
              "        document.querySelector('#' + key + ' button');\n",
              "      quickchartButtonEl.disabled = true;  // To prevent multiple clicks.\n",
              "      quickchartButtonEl.classList.add('colab-df-spinner');\n",
              "      try {\n",
              "        const charts = await google.colab.kernel.invokeFunction(\n",
              "            'suggestCharts', [key], {});\n",
              "      } catch (error) {\n",
              "        console.error('Error during call to suggestCharts:', error);\n",
              "      }\n",
              "      quickchartButtonEl.classList.remove('colab-df-spinner');\n",
              "      quickchartButtonEl.classList.add('colab-df-quickchart-complete');\n",
              "    }\n",
              "    (() => {\n",
              "      let quickchartButtonEl =\n",
              "        document.querySelector('#df-6738e21a-133c-4958-b349-7bba07280446 button');\n",
              "      quickchartButtonEl.style.display =\n",
              "        google.colab.kernel.accessAllowed ? 'block' : 'none';\n",
              "    })();\n",
              "  </script>\n",
              "</div>\n",
              "    </div>\n",
              "  </div>\n"
            ]
          },
          "metadata": {},
          "execution_count": 97
        }
      ]
    },
    {
      "cell_type": "markdown",
      "source": [
        "## Resumo dos dados\n",
        "\n",
        "Os dados fornecidos são um conjunto de 15 registros, cada um dos quais contém 9 atributos:\n",
        "\n",
        "* index: Um identificador exclusivo para o registro\n",
        "* antecedentes: Um conjunto de itens que são as entradas para uma regra\n",
        "* consequentes: Um conjunto de itens que são as saídas de uma regra\n",
        "* suporte antecedente: A proporção de registros no conjunto de dados que contêm todos os antecedentes na regra\n",
        "* suporte consequente: A proporção de registros no conjunto de dados que contêm todos os consequentes na regra\n",
        "* suporte: A proporção de registros no conjunto de dados que contêm ambos os antecedentes e os consequentes na regra\n",
        "* confiança: A proporção de registros no conjunto de dados que contêm os consequentes, dado que eles também contêm os antecedentes\n",
        "* lift: A razão entre a confiança da regra e a confiança esperada da regra, se os antecedentes e os consequentes fossem independentes\n",
        "* alavancagem: A diferença entre o suporte observado da regra e o suporte esperado da regra, se os antecedentes e os consequentes fossem independentes\n",
        "* convicção: Uma medida da força da regra, calculada como a razão do lift da regra para o lift da regra inversa\n",
        "* zhangs_metric: Uma medida da força da regra, calculada como a razão do lift da regra para o lift da regra, se os antecedentes e os consequentes fossem independentes\n",
        "\n",
        "## Interpretação dos dados\n",
        "\n",
        "Os dados podem ser interpretados como um conjunto de regras que descrevem as relações entre os antecedentes e os consequentes. As regras são classificadas por sua confiança, que é uma medida de quão provável é que os consequentes ocorram, dado que os antecedentes também ocorram.\n",
        "\n",
        "Por exemplo, a primeira regra no conjunto de dados é:\n",
        "\n",
        "```\n",
        "antecedentes: frozenset({'CH30_B', 'CH17_A', 'LC6_C', 'CH44_A'})\n",
        "consequentes: frozenset({'CH18_A', 'LC28_A', 'LC15_C', 'CH37_A'})\n",
        "suporte: 0.24324324324324326\n",
        "confiança: 0.8333333333333334\n",
        "lift: 3.627450980392157\n",
        "```\n",
        "\n",
        "Essa regra significa que os itens **CH30_B**, **CH17_A**, **LC6_C**, e **CH44_A** são antecedentes para os itens **CH18_A**, **LC28_A**, **LC15_C**, e **CH37_A**. Em outras palavras, se um registro contém todos os itens no conjunto de antecedentes, então é provável que também contenha todos os itens no conjunto de consequentes. O suporte da regra é 0,24324324324324326, o que significa que 24,32% dos registros no conjunto de dados contêm todos os itens nos conjuntos de antecedentes e consequentes. A confiança da regra é 0,8333333333333334, o que significa que 83,33% dos registros no conjunto de dados que contêm os antecedentes também contêm os consequentes. O lift da regra é 3,627450980392157, o que significa que a regra é 3,627 vezes mais provável de ocorrer do que seria se os antecedentes e os consequentes fossem independentes.\n",
        "\n",
        "As outras regras no conjunto de dados podem ser interpretadas de forma semelhante.\n",
        "\n",
        "Conclusão\n",
        "Os dados fornecidos são um conjunto de 15 regras que descrevem as relações entre os antecedentes e os consequentes. As regras são classificadas por sua confiança, que é uma medida de quão provável é que os consequentes ocorram, dado que os antecedentes também ocorram. As regras podem ser usadas para identificar padrões nos dados e para fazer previsões sobre eventos futuros."
      ],
      "metadata": {
        "id": "sL5076k_exk1"
      }
    },
    {
      "cell_type": "markdown",
      "source": [
        "**Prevenção de falhas**\n",
        "(Opcional)\n",
        "\n",
        "\n",
        "Se o seu dataset for muito grande ou muito grande, ou for muito custoso rodar os algoritmos é indicado que tenha uma célula na qual os resultados parciais possam ser salvos. Evitando, assim ter que re-rodar os algoritmos novamente."
      ],
      "metadata": {
        "id": "xaQyUkiBNDJ3"
      }
    }
  ]
}