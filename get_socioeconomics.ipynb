{
 "cells": [
  {
   "cell_type": "code",
   "execution_count": 1,
   "metadata": {},
   "outputs": [
    {
     "name": "stderr",
     "output_type": "stream",
     "text": [
      "/home/joaquino/UFMG/6-Periodo/MineracaoDeDados/2023-Enem-Pattern-Mining/.conda/lib/python3.11/site-packages/tqdm/auto.py:21: TqdmWarning: IProgress not found. Please update jupyter and ipywidgets. See https://ipywidgets.readthedocs.io/en/stable/user_install.html\n",
      "  from .autonotebook import tqdm as notebook_tqdm\n"
     ]
    }
   ],
   "source": [
    "import pandas as pd\n",
    "import numpy as np\n",
    "import matplotlib.pyplot as plt\n",
    "import seaborn as sns\n",
    "from numba import jit\n",
    "from multiprocessing import Pool\n",
    "import concurrent.futures\n",
    "\n",
    "import swifter\n",
    "from swifter import set_defaults\n",
    "set_defaults(\n",
    "    progress_bar=False,\n",
    ")"
   ]
  },
  {
   "cell_type": "code",
   "execution_count": 2,
   "metadata": {},
   "outputs": [],
   "source": [
    "N = 100\n",
    "PATH = \"microdados_enem_2022/DADOS/\"\n",
    "PATH_PROCESSED = \"dados_processados/\" "
   ]
  },
  {
   "cell_type": "code",
   "execution_count": 3,
   "metadata": {},
   "outputs": [],
   "source": [
    "features = [\"NU_INSCRICAO\",\"TP_DEPENDENCIA_ADM_ESC\",\"IN_TREINEIRO\",\"TP_ST_CONCLUSAO\",\"TP_ANO_CONCLUIU\",\"TP_ESCOLA\",\"TP_FAIXA_ETARIA\",\"Q006\",\"SG_UF_ESC\"]"
   ]
  },
  {
   "cell_type": "code",
   "execution_count": 4,
   "metadata": {},
   "outputs": [],
   "source": [
    "microdados = pd.read_csv(PATH + \"MICRODADOS_ENEM_2022.csv\",encoding=\"latin\",sep=\";\",usecols=features)"
   ]
  },
  {
   "cell_type": "code",
   "execution_count": 5,
   "metadata": {},
   "outputs": [],
   "source": [
    "nu_inscricao = pd.read_csv(PATH_PROCESSED + \"threads/test_TX_RESPOSTAS_CN.csv\",encoding=\"latin\",usecols=[0],header=None)"
   ]
  },
  {
   "cell_type": "code",
   "execution_count": 6,
   "metadata": {},
   "outputs": [],
   "source": [
    "students = microdados[microdados[\"NU_INSCRICAO\"].isin(microdados[\"NU_INSCRICAO\"].values)]"
   ]
  },
  {
   "cell_type": "code",
   "execution_count": 7,
   "metadata": {},
   "outputs": [],
   "source": [
    "students.to_csv(PATH_PROCESSED + \"habitos/habitos.csv\",index=False)"
   ]
  }
 ],
 "metadata": {
  "kernelspec": {
   "display_name": "Python 3",
   "language": "python",
   "name": "python3"
  },
  "language_info": {
   "codemirror_mode": {
    "name": "ipython",
    "version": 3
   },
   "file_extension": ".py",
   "mimetype": "text/x-python",
   "name": "python",
   "nbconvert_exporter": "python",
   "pygments_lexer": "ipython3",
   "version": "3.11.5"
  },
  "orig_nbformat": 4
 },
 "nbformat": 4,
 "nbformat_minor": 2
}
